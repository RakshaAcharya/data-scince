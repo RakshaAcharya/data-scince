{
  "nbformat": 4,
  "nbformat_minor": 0,
  "metadata": {
    "colab": {
      "provenance": []
    },
    "kernelspec": {
      "name": "python3",
      "display_name": "Python 3"
    },
    "language_info": {
      "name": "python"
    }
  },
  "cells": [
    {
      "cell_type": "code",
      "execution_count": null,
      "metadata": {
        "colab": {
          "base_uri": "https://localhost:8080/"
        },
        "id": "Qu4pbjIeTW2R",
        "outputId": "bf1f1b5b-f728-4dbd-db80-09aefea7f4f3"
      },
      "outputs": [
        {
          "output_type": "stream",
          "name": "stdout",
          "text": [
            "The mean or average of all these numbers ( [2, 3, 5, 7, 8] ) is 5.0\n"
          ]
        }
      ],
      "source": [
        "numb = [2, 3, 5, 7, 8]\n",
        "no = len(numb)\n",
        "summ = sum(numb)\n",
        "mean = summ / no\n",
        "print(\"The mean or average of all these numbers (\", numb, \") is\", str(mean))\n"
      ]
    },
    {
      "cell_type": "code",
      "source": [
        "numb = [2, 4, 5, 8, 9]\n",
        "no = len(numb)\n",
        "numb.sort()\n",
        "if no % 2 == 0:\n",
        "    median1 = numb[no//2]\n",
        "    median2 = numb[no//2 - 1]\n",
        "    median = (median1 + median2)/2\n",
        "else:\n",
        "    median = numb[no//2]\n",
        "print(\"The median of the given numbers  (\", numb, \") is\", str(median))"
      ],
      "metadata": {
        "colab": {
          "base_uri": "https://localhost:8080/"
        },
        "id": "qZa4aQLlU4wt",
        "outputId": "8818df8a-8779-4155-eb6a-03296869e475"
      },
      "execution_count": null,
      "outputs": [
        {
          "output_type": "stream",
          "name": "stdout",
          "text": [
            "The median of the given numbers  ( [2, 4, 5, 8, 9] ) is 5\n"
          ]
        }
      ]
    },
    {
      "cell_type": "code",
      "source": [
        "from collections import Counter\n",
        "numb = [2, 3, 4, 5, 7, 2]\n",
        "no = len(numb)\n",
        "val = Counter(numb)\n",
        "findMode = dict(val)\n",
        "mode = [i for i, v in findMode.items() if v == max(list(val.values()))]  \n",
        "if len(mode) == no:\n",
        "    findMode = \"The group of number do not have any mode\"\n",
        "else:\n",
        "    findMode = \"The mode of a number is / are: \" + ', '.join(map(str, mode))\n",
        "print(findMode)"
      ],
      "metadata": {
        "colab": {
          "base_uri": "https://localhost:8080/"
        },
        "id": "IMVSQjAtVLnl",
        "outputId": "6bd20c35-40a1-4ada-909d-26d22d1cf17f"
      },
      "execution_count": null,
      "outputs": [
        {
          "output_type": "stream",
          "name": "stdout",
          "text": [
            "The mode of a number is / are: 2\n"
          ]
        }
      ]
    },
    {
      "cell_type": "code",
      "source": [
        "import math\n",
        " \n",
        "def correlationCoefficient(X, Y, n) :\n",
        "    sum_X = 0\n",
        "    sum_Y = 0\n",
        "    sum_XY = 0\n",
        "    squareSum_X = 0\n",
        "    squareSum_Y = 0\n",
        "     \n",
        "     \n",
        "    i = 0\n",
        "    while i < n :\n",
        "         sum_X = sum_X + X[i]\n",
        "         sum_Y = sum_Y + Y[i]\n",
        "         sum_XY = sum_XY + X[i] * Y[i]\n",
        "         squareSum_X = squareSum_X + X[i] * X[i]\n",
        "         squareSum_Y = squareSum_Y + Y[i] * Y[i]\n",
        "         i =  \n",
        "         corr = (float)(n * sum_XY - sum_X * sum_Y)/\n",
        "           (float)(math.sqrt((n * squareSum_X -\n",
        "           sum_X * sum_X)* (n * squareSum_Y -\n",
        "           sum_Y * sum_Y)))\n",
        "    return corr\n",
        "\n",
        "X = [15, 18, 21, 24, 27]\n",
        "Y = [25, 25, 27, 31, 32]\n",
        "      \n",
        "\n",
        "n = len(X)\n",
        " print ('{0:.6f}'.format(correlationCoefficient(X, Y, n)))\n",
        " "
      ],
      "metadata": {
        "colab": {
          "base_uri": "https://localhost:8080/",
          "height": 130
        },
        "id": "2x8ZGPY-tghc",
        "outputId": "7b2aebe0-3567-43ae-d475-4196b9610707"
      },
      "execution_count": null,
      "outputs": [
        {
          "output_type": "error",
          "ename": "IndentationError",
          "evalue": "ignored",
          "traceback": [
            "\u001b[0;36m  File \u001b[0;32m\"<tokenize>\"\u001b[0;36m, line \u001b[0;32m19\u001b[0m\n\u001b[0;31m    corr = (float)(n * sum_XY - sum_X * sum_Y)/\u001b[0m\n\u001b[0m    ^\u001b[0m\n\u001b[0;31mIndentationError\u001b[0m\u001b[0;31m:\u001b[0m unindent does not match any outer indentation level\n"
          ]
        }
      ]
    },
    {
      "cell_type": "code",
      "source": [
        " import numpy as np\n",
        " import scipy.stats\n",
        " x = np.arange(10, 20)\n",
        " y = np.array([2, 1, 4, 5, 8, 12, 18, 25, 96, 48])\n",
        " scipy.stats.pearsonr(x, y)   \n",
        " scipy.stats.spearmanr(x, y)   \n",
        " scipy.stats.kendalltau(x, y) \n"
      ],
      "metadata": {
        "colab": {
          "base_uri": "https://localhost:8080/"
        },
        "id": "vW7cQ4Ymuwdc",
        "outputId": "4d8b37ac-7377-4f36-9d7f-fc34f3c5edcd"
      },
      "execution_count": null,
      "outputs": [
        {
          "output_type": "execute_result",
          "data": {
            "text/plain": [
              "SignificanceResult(statistic=0.911111111111111, pvalue=2.9761904761904762e-05)"
            ]
          },
          "metadata": {},
          "execution_count": 10
        }
      ]
    },
    {
      "cell_type": "code",
      "source": [
        "import numpy as np\n",
        "\n",
        "data = np.array([[40, 35, 80],\n",
        "                 [80, 50, 90],\n",
        "                 [20, 55, 40],\n",
        "                 [94, 80, 88],\n",
        "                 [90, 30, 100]])\n",
        "print('Input data (N, featuers):', data, data.shape)\n",
        "N = data.shape[0]\n",
        "n_dim = data.shape[1]\n",
        "cov = np.zeros((n_dim, n_dim))\n",
        "\n",
        "# E(X)\n",
        "avg = []\n",
        "for i in range(n_dim):\n",
        "    avg.append(sum([d[i] for d in data]) / N)\n",
        "print('avg', avg)\n",
        "\n",
        "# covariance matrix\n",
        "for i in range(n_dim):\n",
        "    for j in range(n_dim):\n",
        "        var = 0\n",
        "        for d in data:\n",
        "            var += (d[i] - avg[i]) * (d[j] - avg[j])\n",
        "        var /= (N - 1)\n",
        "        cov[i, j] = var\n",
        "print('cov', cov)\n",
        "print('numpy cov', np.cov(data, rowvar=False, bias=False))\n"
      ],
      "metadata": {
        "colab": {
          "base_uri": "https://localhost:8080/"
        },
        "id": "O6eAQDhBwq1z",
        "outputId": "181ed693-60fd-484d-845b-6af95002697f"
      },
      "execution_count": null,
      "outputs": [
        {
          "output_type": "stream",
          "name": "stdout",
          "text": [
            "Input data (N, featuers): [[ 40  35  80]\n",
            " [ 80  50  90]\n",
            " [ 20  55  40]\n",
            " [ 94  80  88]\n",
            " [ 90  30 100]] (5, 3)\n",
            "avg [64.8, 50.0, 79.6]\n",
            "cov [[1085.2  130.   670.4]\n",
            " [ 130.   387.5  -90. ]\n",
            " [ 670.4  -90.   540.8]]\n",
            "numpy cov [[1085.2  130.   670.4]\n",
            " [ 130.   387.5  -90. ]\n",
            " [ 670.4  -90.   540.8]]\n"
          ]
        }
      ]
    },
    {
      "cell_type": "code",
      "source": [
        "import os\n",
        "import sys\n",
        "\n",
        "import pandas as pd\n",
        "import numpy as np\n",
        "import matplotlib.pyplot as plt\n",
        "import seaborn as sns\n",
        "from scipy import stats\n",
        "\n",
        "X = np.random.rand(50)\n",
        "Y = 2 * X + np.random.normal(0, 0.1, 50)\n",
        "\n",
        "np.cov(X, Y)[0, 1]"
      ],
      "metadata": {
        "id": "iNCe1EuYw68D",
        "outputId": "b5d21b59-9716-4591-b66c-48d1ffe7356e",
        "colab": {
          "base_uri": "https://localhost:8080/"
        }
      },
      "execution_count": null,
      "outputs": [
        {
          "output_type": "execute_result",
          "data": {
            "text/plain": [
              "0.13602799114158948"
            ]
          },
          "metadata": {},
          "execution_count": 12
        }
      ]
    },
    {
      "cell_type": "code",
      "source": [],
      "metadata": {
        "id": "8P2GyPvXw78L"
      },
      "execution_count": null,
      "outputs": []
    }
  ]
}