{
 "cells": [
  {
   "cell_type": "code",
   "execution_count": 1,
   "id": "80f69458",
   "metadata": {},
   "outputs": [
    {
     "name": "stdout",
     "output_type": "stream",
     "text": [
      "Mean / Average is: 3.0\n"
     ]
    }
   ],
   "source": [
    "#mean\n",
    "n_num = [1, 2, 3, 4, 5]\n",
    "n = len(n_num)\n",
    " \n",
    "get_sum = sum(n_num)\n",
    "mean = get_sum / n\n",
    " \n",
    "print(\"Mean / Average is: \" + str(mean))"
   ]
  },
  {
   "cell_type": "code",
   "execution_count": 2,
   "id": "037f9b55",
   "metadata": {},
   "outputs": [
    {
     "name": "stdout",
     "output_type": "stream",
     "text": [
      "Median is: 3\n"
     ]
    }
   ],
   "source": [
    "#median\n",
    "n_num = [1, 2, 3, 4, 5]\n",
    "n = len(n_num)\n",
    "n_num.sort()\n",
    " \n",
    "if n % 2 == 0:\n",
    "    median1 = n_num[n//2]\n",
    "    median2 = n_num[n//2 - 1]\n",
    "    median = (median1 + median2)/2\n",
    "else:\n",
    "    median = n_num[n//2]\n",
    "print(\"Median is: \" + str(median))"
   ]
  },
  {
   "cell_type": "code",
   "execution_count": 3,
   "id": "a93728c6",
   "metadata": {},
   "outputs": [
    {
     "name": "stdout",
     "output_type": "stream",
     "text": [
      "Mode is / are: 5\n"
     ]
    }
   ],
   "source": [
    "#mode\n",
    "from collections import Counter\n",
    " \n",
    "\n",
    "n_num = [1, 2, 3, 4, 5, 5]\n",
    "n = len(n_num)\n",
    " \n",
    "data = Counter(n_num)\n",
    "get_mode = dict(data)\n",
    "mode = [k for k, v in get_mode.items() if v == max(list(data.values()))]\n",
    " \n",
    "if len(mode) == n:\n",
    "    get_mode = \"No mode found\"\n",
    "else:\n",
    "    get_mode = \"Mode is / are: \" + ', '.join(map(str, mode))\n",
    "     \n",
    "print(get_mode)"
   ]
  },
  {
   "cell_type": "code",
   "execution_count": 6,
   "id": "009992a9",
   "metadata": {},
   "outputs": [
    {
     "name": "stdout",
     "output_type": "stream",
     "text": [
      "The original list:[3, 5, 7, 2]\n",
      "Variance of sample is:3.6875\n"
     ]
    }
   ],
   "source": [
    "#varianace \n",
    "test_list=[3,5,7,2]\n",
    "print(\"The original list:\"+str(test_list))\n",
    "mean=sum(test_list)/len(test_list)\n",
    "variance=sum([((x-mean)**2)for x in test_list])/len(test_list)\n",
    "\n",
    "print(\"Variance of sample is:\"+str(variance))\n"
   ]
  },
  {
   "cell_type": "code",
   "execution_count": 7,
   "id": "51a7e81d",
   "metadata": {},
   "outputs": [
    {
     "name": "stdout",
     "output_type": "stream",
     "text": [
      "Standard deviation of sample is:1.920286436967152\n"
     ]
    }
   ],
   "source": [
    "#Standard Deviation\n",
    "res=variance ** 0.5\n",
    "print(\"Standard deviation of sample is:\"+str(res))"
   ]
  },
  {
   "cell_type": "code",
   "execution_count": 10,
   "id": "ce867979",
   "metadata": {},
   "outputs": [
    {
     "data": {
      "text/plain": [
       "(1, 88, 87)"
      ]
     },
     "execution_count": 10,
     "metadata": {},
     "output_type": "execute_result"
    }
   ],
   "source": [
    "#Range\n",
    "numbers=[4,23,67,88,1,9]\n",
    "def find_range(list_of_numbers):\n",
    "    n_min=min(list_of_numbers)\n",
    "    n_max=max(list_of_numbers)\n",
    "    n_range=n_max-n_min\n",
    "    return n_min,n_max,n_range\n",
    "find_range(numbers)\n",
    "\n",
    "    "
   ]
  },
  {
   "cell_type": "code",
   "execution_count": null,
   "id": "8113c1a0",
   "metadata": {},
   "outputs": [],
   "source": []
  }
 ],
 "metadata": {
  "kernelspec": {
   "display_name": "Python 3 (ipykernel)",
   "language": "python",
   "name": "python3"
  },
  "language_info": {
   "codemirror_mode": {
    "name": "ipython",
    "version": 3
   },
   "file_extension": ".py",
   "mimetype": "text/x-python",
   "name": "python",
   "nbconvert_exporter": "python",
   "pygments_lexer": "ipython3",
   "version": "3.9.7"
  }
 },
 "nbformat": 4,
 "nbformat_minor": 5
}
