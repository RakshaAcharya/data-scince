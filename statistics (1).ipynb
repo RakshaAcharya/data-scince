{
 "cells": [
  {
   "cell_type": "code",
   "execution_count": null,
   "id": "81ff826e",
   "metadata": {
    "scrolled": true
   },
   "outputs": [],
   "source": [
    "# mean\n",
    "import statistics\n",
    "li=[1,2,3,3,2,2,2,1]\n",
    "print(\"The average of list values is:\",end=\"\")\n",
    "print(statistics.mean(li))"
   ]
  },
  {
   "cell_type": "code",
   "execution_count": null,
   "id": "45d64fe3",
   "metadata": {},
   "outputs": [],
   "source": [
    "# Median\n",
    "from statistics import median\n",
    "from fractions import Fraction as fr\n",
    "data1=(2,3,4,5,7,9,11)\n",
    "data2=(2.4,5.1,6.7,8.9)\n",
    "data3=(fr(1,2),fr(44,12),fr(10,3),fr(2,3))\n",
    "data4=(-5,-1,-12,-19,-3)\n",
    "data5=(-1,-2,-3,-4,4,3,2,1)\n",
    "print(\"Median of data-set 1 is %s\"%(median(data1)))\n",
    "print(\"Median of data-set 2 is %s\"%(median(data2)))\n",
    "print(\"Median of data-set 3 is %s\"%(median(data3)))\n",
    "print(\"Median of data-set 4 is %s\"%(median(data4)))\n",
    "print(\"Median of data-set 5 is %s\"%(median(data5)))"
   ]
  },
  {
   "cell_type": "code",
   "execution_count": null,
   "id": "5589b02d",
   "metadata": {},
   "outputs": [],
   "source": [
    "#mode\n",
    "from statistics import mode\n",
    "from fractions import Fraction as fr\n",
    "data1=(2,3,3,4,5,5,5,6,6,6,7)\n",
    "data2=(2.4,1.3,1.3,1.3,2.4,4.6)\n",
    "data3=(fr(1,2),fr(1,2),fr(10,3),fr(2,3))\n",
    "data4=(-1,-2,-2,-2,-7,-7,-9)\n",
    "data5=(\"red\",\"blue\",\"black\",\"blue\",\"black\",\"black\",\"brown\")\n",
    "print(\"Mode of data-set 1 is %s\"%(mode(data1)))\n",
    "print(\"Mode of data-set 2 is %s\"%(mode(data2)))\n",
    "print(\"Mode of data-set 3 is %s\"%(mode(data3)))\n",
    "print(\"Mode of data-set 4 is %s\"%(mode(data4)))\n",
    "print(\"Mode of data-set 5 is %s\"%(mode(data5)))"
   ]
  },
  {
   "cell_type": "code",
   "execution_count": null,
   "id": "4d9786b3",
   "metadata": {},
   "outputs": [],
   "source": [
    "#range\n",
    "\n",
    "arr = [1, 2, 3, 4, 5]\n",
    "Maximum = max(arr)\n",
    "Minimum = min(arr)\n",
    "\n",
    "Range = Maximum-Minimum\n",
    "print(\"Maximum = {}, Minimum = {} and Range = {}\".format(\n",
    "Maximum, Minimum, Range))\n"
   ]
  },
  {
   "cell_type": "code",
   "execution_count": null,
   "id": "efcd9c53",
   "metadata": {},
   "outputs": [],
   "source": [
    "#variance\n",
    "\n",
    "from statistics import variance\n",
    "from fractions import Fraction as fr\n",
    "\n",
    "sample1 = (1, 2, 5, 4, 8, 9, 12)\n",
    "\n",
    "sample2 = (-2, -4, -3, -1, -5, -6)\n",
    "\n",
    "\n",
    "sample3 = (-9, -1, -0, 2, 1, 3, 4, 19)\n",
    "\n",
    "sample4 = (fr(1, 2), fr(2, 3), fr(3, 4),\n",
    "fr(5, 6), fr(7, 8))\n",
    "\n",
    "sample5 = (1.23, 1.45, 2.1, 2.2, 1.9)\n",
    "print(\"Variance of Sample1 is % s \" % (variance(sample1)))\n",
    "print(\"Variance of Sample2 is % s \" % (variance(sample2)))\n",
    "print(\"Variance of Sample3 is % s \" % (variance(sample3)))\n",
    "print(\"Variance of Sample4 is % s \" % (variance(sample4)))\n",
    "print(\"Variance of Sample5 is % s \" % (variance(sample5)))\n"
   ]
  },
  {
   "cell_type": "code",
   "execution_count": 2,
   "id": "69a04bc0",
   "metadata": {},
   "outputs": [
    {
     "name": "stdout",
     "output_type": "stream",
     "text": [
      "The Standard Deviation of Sample1 is 3.9761191895520196\n",
      "The Standard Deviation of Sample2 is 1.8708286933869707\n",
      "The Standard Deviation of Sample3 is 7.8182478855559445\n",
      "The Standard Deviation of Sample4 is 0.41967844833872525\n"
     ]
    }
   ],
   "source": [
    "#standard deviation\n",
    "\n",
    "from statistics import stdev\n",
    "\n",
    "from fractions import Fraction as fr\n",
    "\n",
    "sample1 = (1, 2, 5, 4, 8, 9, 12)\n",
    "\n",
    "sample2 = (-2, -4, -3, -1, -5, -6)\n",
    "\n",
    "sample3 = (-9, -1, -0, 2, 1, 3, 4, 19)\n",
    "\n",
    "sample4 = (1.23, 1.45, 2.1, 2.2, 1.9)\n",
    "\n",
    "print(\"The Standard Deviation of Sample1 is % s\"\n",
    "% (stdev(sample1)))\n",
    "print(\"The Standard Deviation of Sample2 is % s\"\n",
    "% (stdev(sample2)))\n",
    "print(\"The Standard Deviation of Sample3 is % s\"\n",
    "% (stdev(sample3)))\n",
    "print(\"The Standard Deviation of Sample4 is % s\"\n",
    "% (stdev(sample4)))\n",
    "\n",
    "\n"
   ]
  },
  {
   "cell_type": "code",
   "execution_count": 7,
   "id": "620a7ebb",
   "metadata": {},
   "outputs": [
    {
     "data": {
      "text/plain": [
       "DescribeResult(nobs=21, minmax=(0, 14), mean=5.714285714285714, variance=13.914285714285711, skewness=0.6825212526699413, kurtosis=-0.20561472450653762)"
      ]
     },
     "execution_count": 7,
     "metadata": {},
     "output_type": "execute_result"
    }
   ],
   "source": [
    "#summary of descriptive statistics\n",
    "import  scipy\n",
    "from scipy import stats\n",
    "result = scipy.stats.describe(y, ddof=1, bias=False)\n",
    "result"
   ]
  },
  {
   "cell_type": "code",
   "execution_count": 9,
   "id": "623ba972",
   "metadata": {},
   "outputs": [],
   "source": [
    "import numpy as np\n",
    "import pandas as pd\n",
    "x = list(range(-10, 11))\n",
    "y = [0, 2, 2, 2, 2, 3, 3, 6, 7, 4, 7, 6, 6, 9, 4,5, 5, 10, 11, 12, 14]\n",
    "x_, y_ = np.array(x), np.array(y)\n",
    "x__, y__ =pd.Series(x_), pd.Series(y_)"
   ]
  },
  {
   "cell_type": "code",
   "execution_count": 12,
   "id": "8bf38faa",
   "metadata": {},
   "outputs": [
    {
     "data": {
      "text/plain": [
       "0    -10\n",
       "1     -9\n",
       "2     -8\n",
       "3     -7\n",
       "4     -6\n",
       "5     -5\n",
       "6     -4\n",
       "7     -3\n",
       "8     -2\n",
       "9     -1\n",
       "10     0\n",
       "11     1\n",
       "12     2\n",
       "13     3\n",
       "14     4\n",
       "15     5\n",
       "16     6\n",
       "17     7\n",
       "18     8\n",
       "19     9\n",
       "20    10\n",
       "dtype: int32"
      ]
     },
     "execution_count": 12,
     "metadata": {},
     "output_type": "execute_result"
    }
   ],
   "source": [
    "x__"
   ]
  },
  {
   "cell_type": "code",
   "execution_count": 5,
   "id": "41eb2999",
   "metadata": {},
   "outputs": [
    {
     "data": {
      "text/plain": [
       "19.95"
      ]
     },
     "execution_count": 5,
     "metadata": {},
     "output_type": "execute_result"
    }
   ],
   "source": [
    "n = len(x) \n",
    "mean_x, mean_y = sum(x) / n, sum(y) / n \n",
    "cov_xy = (sum((x[k] - mean_x) * (y[k] - mean_y) for k in range(n))\n",
    "/ (n - 1)) \n",
    "cov_xy"
   ]
  },
  {
   "cell_type": "code",
   "execution_count": 8,
   "id": "f4c3be2d",
   "metadata": {},
   "outputs": [
    {
     "data": {
      "text/plain": [
       "array([[38.5       , 19.95      ],\n",
       "       [19.95      , 13.91428571]])"
      ]
     },
     "execution_count": 8,
     "metadata": {},
     "output_type": "execute_result"
    }
   ],
   "source": [
    "cov_matrix = np.cov(x_, y_) \n",
    "cov_matrix"
   ]
  },
  {
   "cell_type": "code",
   "execution_count": null,
   "id": "5ca18c4b",
   "metadata": {},
   "outputs": [],
   "source": [
    "import numpy as np\n",
    "import pandas as pd\n",
    "x = list(range(-10, 11))\n",
    "y = [0, 2, 2, 2, 2, 3, 3, 6, 7, 4, 7, 6, 6, 9, 4,5, 5, 10, 11, 12, 14]\n",
    "x_, y_ = np.array(x), np.array(y)\n",
    "x__, y__ =pd.Series(x_), pd.Series(y_)\n"
   ]
  },
  {
   "cell_type": "code",
   "execution_count": 13,
   "id": "10060bb5",
   "metadata": {},
   "outputs": [
    {
     "data": {
      "text/plain": [
       "[-10, -9, -8, -7, -6, -5, -4, -3, -2, -1, 0, 1, 2, 3, 4, 5, 6, 7, 8, 9, 10]"
      ]
     },
     "execution_count": 13,
     "metadata": {},
     "output_type": "execute_result"
    }
   ],
   "source": [
    "x"
   ]
  },
  {
   "cell_type": "code",
   "execution_count": 14,
   "id": "63954548",
   "metadata": {},
   "outputs": [
    {
     "data": {
      "text/plain": [
       "array([-10,  -9,  -8,  -7,  -6,  -5,  -4,  -3,  -2,  -1,   0,   1,   2,\n",
       "         3,   4,   5,   6,   7,   8,   9,  10])"
      ]
     },
     "execution_count": 14,
     "metadata": {},
     "output_type": "execute_result"
    }
   ],
   "source": [
    "x_"
   ]
  },
  {
   "cell_type": "code",
   "execution_count": 15,
   "id": "3c83fa71",
   "metadata": {},
   "outputs": [
    {
     "data": {
      "text/plain": [
       "0    -10\n",
       "1     -9\n",
       "2     -8\n",
       "3     -7\n",
       "4     -6\n",
       "5     -5\n",
       "6     -4\n",
       "7     -3\n",
       "8     -2\n",
       "9     -1\n",
       "10     0\n",
       "11     1\n",
       "12     2\n",
       "13     3\n",
       "14     4\n",
       "15     5\n",
       "16     6\n",
       "17     7\n",
       "18     8\n",
       "19     9\n",
       "20    10\n",
       "dtype: int32"
      ]
     },
     "execution_count": 15,
     "metadata": {},
     "output_type": "execute_result"
    }
   ],
   "source": [
    "x__"
   ]
  },
  {
   "cell_type": "code",
   "execution_count": null,
   "id": "be26be1d",
   "metadata": {},
   "outputs": [],
   "source": []
  }
 ],
 "metadata": {
  "kernelspec": {
   "display_name": "Python 3 (ipykernel)",
   "language": "python",
   "name": "python3"
  },
  "language_info": {
   "codemirror_mode": {
    "name": "ipython",
    "version": 3
   },
   "file_extension": ".py",
   "mimetype": "text/x-python",
   "name": "python",
   "nbconvert_exporter": "python",
   "pygments_lexer": "ipython3",
   "version": "3.9.7"
  }
 },
 "nbformat": 4,
 "nbformat_minor": 5
}
