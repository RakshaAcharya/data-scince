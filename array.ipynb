{
  "nbformat": 4,
  "nbformat_minor": 0,
  "metadata": {
    "colab": {
      "provenance": []
    },
    "kernelspec": {
      "name": "python3",
      "display_name": "Python 3"
    },
    "language_info": {
      "name": "python"
    }
  },
  "cells": [
    {
      "cell_type": "markdown",
      "source": [
        "1) create a Numpy array"
      ],
      "metadata": {
        "id": "Gv8F61UyNfoj"
      }
    },
    {
      "cell_type": "code",
      "source": [
        "import numpy as np\n",
        "arr1 = np.array([1,2,3])\n",
        "print(arr1)"
      ],
      "metadata": {
        "colab": {
          "base_uri": "https://localhost:8080/"
        },
        "id": "1JC_yR1XNonT",
        "outputId": "828034e0-f53e-45e6-a1cb-d89407068f97"
      },
      "execution_count": null,
      "outputs": [
        {
          "output_type": "stream",
          "name": "stdout",
          "text": [
            "[1 2 3]\n"
          ]
        }
      ]
    },
    {
      "cell_type": "markdown",
      "source": [
        "Access and manipulate elements in the array\n"
      ],
      "metadata": {
        "id": "IaB05yIdO_-T"
      }
    },
    {
      "cell_type": "code",
      "source": [
        "arr1[2]"
      ],
      "metadata": {
        "colab": {
          "base_uri": "https://localhost:8080/"
        },
        "id": "6hfBQ8L3PJMS",
        "outputId": "b2d0b60c-ab2b-46b1-fa40-69b54ae44730"
      },
      "execution_count": null,
      "outputs": [
        {
          "output_type": "execute_result",
          "data": {
            "text/plain": [
              "3"
            ]
          },
          "metadata": {},
          "execution_count": 2
        }
      ]
    },
    {
      "cell_type": "code",
      "source": [
        "arr1[2]=5\n",
        "arr1\n"
      ],
      "metadata": {
        "colab": {
          "base_uri": "https://localhost:8080/"
        },
        "id": "8R9NWL_oPVlb",
        "outputId": "b5be6a17-47d4-4e2d-dd08-6999f29a482b"
      },
      "execution_count": null,
      "outputs": [
        {
          "output_type": "execute_result",
          "data": {
            "text/plain": [
              "array([1, 2, 5])"
            ]
          },
          "metadata": {},
          "execution_count": 8
        }
      ]
    },
    {
      "cell_type": "markdown",
      "source": [
        "3) create  a 2-dimensional array and check the shape of the array"
      ],
      "metadata": {
        "id": "VjG13IB7QNE6"
      }
    },
    {
      "cell_type": "code",
      "source": [
        "arr2=np.array([[1,2,3],[4,5,6]])\n",
        "print(arr2)"
      ],
      "metadata": {
        "colab": {
          "base_uri": "https://localhost:8080/"
        },
        "id": "hyXtx0vVQXEf",
        "outputId": "c8d5705a-126f-45ca-a89c-6f0921bb278b"
      },
      "execution_count": null,
      "outputs": [
        {
          "output_type": "stream",
          "name": "stdout",
          "text": [
            "[[1 2 3]\n",
            " [4 5 6]]\n"
          ]
        }
      ]
    },
    {
      "cell_type": "code",
      "source": [
        "print(\"The shape is 2 rows and 3 colums:\",arr2.shape)"
      ],
      "metadata": {
        "colab": {
          "base_uri": "https://localhost:8080/"
        },
        "id": "2YZJ02CkQftX",
        "outputId": "30e2a5f7-b17f-4f61-8de5-bb76ee549a96"
      },
      "execution_count": null,
      "outputs": [
        {
          "output_type": "stream",
          "name": "stdout",
          "text": [
            "The shape is 2 rows and 3 colums: (2, 3)\n"
          ]
        }
      ]
    },
    {
      "cell_type": "markdown",
      "source": [
        "4) Access elements from the 2D array using index positions"
      ],
      "metadata": {
        "id": "Bh2QJSBjQ7lK"
      }
    },
    {
      "cell_type": "code",
      "source": [
        "print(arr2[0][2])\n",
        "print(arr2[0,2])\n",
        "print(arr2[0,-1])\n",
        "print(arr2[-1,0])"
      ],
      "metadata": {
        "colab": {
          "base_uri": "https://localhost:8080/"
        },
        "id": "IioGEzAWRGJc",
        "outputId": "4255d1e9-b7c4-4c78-fe6e-1151a86951b0"
      },
      "execution_count": null,
      "outputs": [
        {
          "output_type": "stream",
          "name": "stdout",
          "text": [
            "3\n",
            "3\n",
            "3\n",
            "4\n"
          ]
        }
      ]
    },
    {
      "cell_type": "markdown",
      "source": [
        "5)create an array of type string"
      ],
      "metadata": {
        "id": "NMQppFeyRgpR"
      }
    },
    {
      "cell_type": "code",
      "source": [
        "arr3=np.array(['India','china','USA','Mexico'])\n",
        "print(arr3)"
      ],
      "metadata": {
        "colab": {
          "base_uri": "https://localhost:8080/"
        },
        "id": "tv-hto3WR14a",
        "outputId": "2c5e2352-943a-40bd-869d-270ef15745e8"
      },
      "execution_count": null,
      "outputs": [
        {
          "output_type": "stream",
          "name": "stdout",
          "text": [
            "['India' 'china' 'USA' 'Mexico']\n"
          ]
        }
      ]
    },
    {
      "cell_type": "code",
      "source": [
        "arr3[1]"
      ],
      "metadata": {
        "colab": {
          "base_uri": "https://localhost:8080/",
          "height": 35
        },
        "id": "nNPBoiWhSIHa",
        "outputId": "0da7eecf-29dc-4684-e018-586c25d98bb5"
      },
      "execution_count": null,
      "outputs": [
        {
          "output_type": "execute_result",
          "data": {
            "text/plain": [
              "'china'"
            ],
            "application/vnd.google.colaboratory.intrinsic+json": {
              "type": "string"
            }
          },
          "metadata": {},
          "execution_count": 14
        }
      ]
    },
    {
      "cell_type": "markdown",
      "source": [
        "6) using the arange() and linspace() fuxn to evenly space values in a specified interval"
      ],
      "metadata": {
        "id": "wDl8K2QESOVa"
      }
    },
    {
      "cell_type": "code",
      "source": [
        "arr=np.arange(0,20,2)\n",
        "print(arr)"
      ],
      "metadata": {
        "colab": {
          "base_uri": "https://localhost:8080/"
        },
        "id": "o5ffj5wnSZgd",
        "outputId": "7ee82929-b15c-44f7-fbd5-5aa81cdb5727"
      },
      "execution_count": null,
      "outputs": [
        {
          "output_type": "stream",
          "name": "stdout",
          "text": [
            "[ 0  2  4  6  8 10 12 14 16 18]\n"
          ]
        }
      ]
    },
    {
      "cell_type": "code",
      "source": [
        "arr=np.linspace(0,10,20)\n",
        "print(arr)"
      ],
      "metadata": {
        "colab": {
          "base_uri": "https://localhost:8080/"
        },
        "id": "BoRyY0W0SMgJ",
        "outputId": "0dcdb43e-db49-4799-968b-37692044eec0"
      },
      "execution_count": null,
      "outputs": [
        {
          "output_type": "stream",
          "name": "stdout",
          "text": [
            "[ 0.          0.52631579  1.05263158  1.57894737  2.10526316  2.63157895\n",
            "  3.15789474  3.68421053  4.21052632  4.73684211  5.26315789  5.78947368\n",
            "  6.31578947  6.84210526  7.36842105  7.89473684  8.42105263  8.94736842\n",
            "  9.47368421 10.        ]\n"
          ]
        }
      ]
    },
    {
      "cell_type": "markdown",
      "source": [
        "7) create an arary of random values between 0 and 1 in a given shape "
      ],
      "metadata": {
        "id": "PyD3e89tStJx"
      }
    },
    {
      "cell_type": "code",
      "source": [
        "arr=np.random.rand(10)\n",
        "print(arr)\n",
        "print('\\n')\n",
        "arr=np.random.rand(3,4)\n",
        "print(arr)"
      ],
      "metadata": {
        "colab": {
          "base_uri": "https://localhost:8080/"
        },
        "id": "H9BfHa8uS5YZ",
        "outputId": "e70e1953-1fd0-4310-a2fa-c1993ccac34b"
      },
      "execution_count": null,
      "outputs": [
        {
          "output_type": "stream",
          "name": "stdout",
          "text": [
            "[0.38984704 0.58679384 0.12953002 0.00706217 0.78759134 0.65051269\n",
            " 0.51251797 0.22432359 0.36132487 0.56402846]\n",
            "\n",
            "\n",
            "[[0.38986898 0.20533229 0.05583827 0.86862142]\n",
            " [0.05874295 0.36290789 0.25275464 0.65978827]\n",
            " [0.97120792 0.56953077 0.20749746 0.97376812]]\n"
          ]
        }
      ]
    },
    {
      "cell_type": "markdown",
      "source": [
        "8) craete an array of constant values in a given shape"
      ],
      "metadata": {
        "id": "oYXbuUDpTKja"
      }
    },
    {
      "cell_type": "code",
      "source": [
        "print(np.full((4,6),10))"
      ],
      "metadata": {
        "colab": {
          "base_uri": "https://localhost:8080/"
        },
        "id": "LqpfmGIITP-R",
        "outputId": "6e43d524-d470-4085-e438-dcc325475cea"
      },
      "execution_count": null,
      "outputs": [
        {
          "output_type": "stream",
          "name": "stdout",
          "text": [
            "[[10 10 10 10 10 10]\n",
            " [10 10 10 10 10 10]\n",
            " [10 10 10 10 10 10]\n",
            " [10 10 10 10 10 10]]\n"
          ]
        }
      ]
    },
    {
      "cell_type": "markdown",
      "source": [
        "9) repeat each element of an array by a specified number of times using repeate() and tile() fuxn"
      ],
      "metadata": {
        "id": "XL7DhTSuTaV6"
      }
    },
    {
      "cell_type": "code",
      "source": [
        "arr=[0,1,2]\n",
        "print(np.repeat(arr,3))"
      ],
      "metadata": {
        "colab": {
          "base_uri": "https://localhost:8080/"
        },
        "id": "pwTR1wIUTpeC",
        "outputId": "41d1b59f-43e8-4f91-cf4b-75df322f2176"
      },
      "execution_count": null,
      "outputs": [
        {
          "output_type": "stream",
          "name": "stdout",
          "text": [
            "[0 0 0 1 1 1 2 2 2]\n"
          ]
        }
      ]
    },
    {
      "cell_type": "code",
      "source": [
        "arr=[0,1,2]\n",
        "print(np.tile(arr,3))"
      ],
      "metadata": {
        "colab": {
          "base_uri": "https://localhost:8080/"
        },
        "id": "A8h4GeU9a9rp",
        "outputId": "b9349538-04d2-480a-98bd-4dfdabae1bb5"
      },
      "execution_count": null,
      "outputs": [
        {
          "output_type": "stream",
          "name": "stdout",
          "text": [
            "[0 1 2 0 1 2 0 1 2]\n"
          ]
        }
      ]
    },
    {
      "cell_type": "markdown",
      "source": [
        "10) craete an identity matix using eye() and identity() fuxn"
      ],
      "metadata": {
        "id": "0lJK9_ieT5Yq"
      }
    },
    {
      "cell_type": "code",
      "source": [
        "identity_matrix=np.eye(3)\n",
        "print(identity_matrix)"
      ],
      "metadata": {
        "colab": {
          "base_uri": "https://localhost:8080/"
        },
        "id": "oF5yej_PUE9x",
        "outputId": "8ecf2708-fbde-4d0b-9359-b691940f5ec5"
      },
      "execution_count": null,
      "outputs": [
        {
          "output_type": "stream",
          "name": "stdout",
          "text": [
            "[[1. 0. 0.]\n",
            " [0. 1. 0.]\n",
            " [0. 0. 1.]]\n"
          ]
        }
      ]
    },
    {
      "cell_type": "code",
      "source": [
        "identity_matrix=np.identity(3)\n",
        "print(identity_matrix)"
      ],
      "metadata": {
        "colab": {
          "base_uri": "https://localhost:8080/"
        },
        "id": "rU9o1Z_pSql6",
        "outputId": "8f971782-497a-4255-b06f-923a20badcdd"
      },
      "execution_count": null,
      "outputs": [
        {
          "output_type": "stream",
          "name": "stdout",
          "text": [
            "[[1. 0. 0.]\n",
            " [0. 1. 0.]\n",
            " [0. 0. 1.]]\n"
          ]
        }
      ]
    },
    {
      "cell_type": "markdown",
      "source": [
        "11) create a 5X5 2D array for random numbers between 0 and 1 "
      ],
      "metadata": {
        "id": "scNZ7bTtUoOh"
      }
    },
    {
      "cell_type": "code",
      "source": [
        "arr=np.random.rand(5,5)\n",
        "print(arr)"
      ],
      "metadata": {
        "colab": {
          "base_uri": "https://localhost:8080/"
        },
        "id": "dGjS3qqVUzZB",
        "outputId": "8524e0ae-d2c0-4fcb-e6f4-6f86d9650bce"
      },
      "execution_count": null,
      "outputs": [
        {
          "output_type": "stream",
          "name": "stdout",
          "text": [
            "[[0.41684815 0.90619357 0.64746084 0.13511613 0.90499665]\n",
            " [0.79664028 0.95321082 0.82047544 0.98211564 0.51957866]\n",
            " [0.50742541 0.76410591 0.89709418 0.29167567 0.43410994]\n",
            " [0.88753586 0.63107976 0.9957288  0.19886178 0.20457525]\n",
            " [0.95202259 0.21972819 0.02327091 0.27501971 0.5480818 ]]\n"
          ]
        }
      ]
    },
    {
      "cell_type": "markdown",
      "source": [
        "12) sum an array along the column"
      ],
      "metadata": {
        "id": "a0ESss9wU8OC"
      }
    },
    {
      "cell_type": "code",
      "source": [
        "print(np.sum(arr,axis=0))"
      ],
      "metadata": {
        "colab": {
          "base_uri": "https://localhost:8080/"
        },
        "id": "H5Cl4u0dVBZS",
        "outputId": "cfdc1e10-7264-49e7-b523-1d758c26eee8"
      },
      "execution_count": null,
      "outputs": [
        {
          "output_type": "stream",
          "name": "stdout",
          "text": [
            "[3.5604723  3.47431825 3.38403018 1.88278894 2.6113423 ]\n"
          ]
        }
      ]
    },
    {
      "cell_type": "markdown",
      "source": [
        "13)sum an array along the row"
      ],
      "metadata": {
        "id": "UvfUgLJ_VH75"
      }
    },
    {
      "cell_type": "code",
      "source": [
        "print(np.sum(arr,axis=1))"
      ],
      "metadata": {
        "colab": {
          "base_uri": "https://localhost:8080/"
        },
        "id": "VYWOr0gRUijC",
        "outputId": "51780eb5-6628-4d4c-f668-4d592a5b7448"
      },
      "execution_count": null,
      "outputs": [
        {
          "output_type": "stream",
          "name": "stdout",
          "text": [
            "[3.01061534 4.07202084 2.89441113 2.91778146 2.0181232 ]\n"
          ]
        }
      ]
    },
    {
      "cell_type": "markdown",
      "source": [
        "14) calculate the mean ,median, standard deviation, variance"
      ],
      "metadata": {
        "id": "onIhe_cyVWGp"
      }
    },
    {
      "cell_type": "code",
      "source": [
        "print(np.mean(arr))\n",
        "print(np.median(arr))\n",
        "print(np.std(arr))\n",
        "print(np.var(arr))"
      ],
      "metadata": {
        "colab": {
          "base_uri": "https://localhost:8080/"
        },
        "id": "zOcltKoZVhuj",
        "outputId": "01113742-4437-40e1-9b8f-2836b0f5ab7a"
      },
      "execution_count": null,
      "outputs": [
        {
          "output_type": "stream",
          "name": "stdout",
          "text": [
            "0.5965180788450268\n",
            "0.6310797613044875\n",
            "0.3043826349493776\n",
            "0.09264878845872607\n"
          ]
        }
      ]
    },
    {
      "cell_type": "markdown",
      "source": [
        "15) sort an array along the row using the sort() fuxn"
      ],
      "metadata": {
        "id": "313u31elV1DZ"
      }
    },
    {
      "cell_type": "code",
      "source": [
        "arr=np.random.rand(5,5)\n",
        "print(arr)"
      ],
      "metadata": {
        "colab": {
          "base_uri": "https://localhost:8080/"
        },
        "id": "V1nuCSqqV8Tx",
        "outputId": "611aa872-d493-4a22-95bd-7bea91299afb"
      },
      "execution_count": null,
      "outputs": [
        {
          "output_type": "stream",
          "name": "stdout",
          "text": [
            "[[0.24514248 0.82653021 0.99859219 0.34936786 0.45129959]\n",
            " [0.27601676 0.64475927 0.45985676 0.29775781 0.88171723]\n",
            " [0.34651362 0.27524439 0.97886459 0.44381048 0.85701729]\n",
            " [0.59293872 0.09518829 0.33804662 0.6983722  0.67735289]\n",
            " [0.90002859 0.99322282 0.38504963 0.57780827 0.06158492]]\n"
          ]
        }
      ]
    },
    {
      "cell_type": "code",
      "source": [
        "print(np.sort(arr,axis=1))"
      ],
      "metadata": {
        "colab": {
          "base_uri": "https://localhost:8080/"
        },
        "id": "aqgFl_cmVUrx",
        "outputId": "796409e9-fd11-44e9-acde-362e4880a97a"
      },
      "execution_count": null,
      "outputs": [
        {
          "output_type": "stream",
          "name": "stdout",
          "text": [
            "[[0.24514248 0.34936786 0.45129959 0.82653021 0.99859219]\n",
            " [0.27601676 0.29775781 0.45985676 0.64475927 0.88171723]\n",
            " [0.27524439 0.34651362 0.44381048 0.85701729 0.97886459]\n",
            " [0.09518829 0.33804662 0.59293872 0.67735289 0.6983722 ]\n",
            " [0.06158492 0.38504963 0.57780827 0.90002859 0.99322282]]\n"
          ]
        }
      ]
    },
    {
      "cell_type": "markdown",
      "source": [
        "16) append elements to an array using the apend() fuxn"
      ],
      "metadata": {
        "id": "Z5RHJjtEWMty"
      }
    },
    {
      "cell_type": "code",
      "source": [
        "arr=np.array([4,5,6,7])\n",
        "arr1=np.append(arr,8)\n",
        "arr1"
      ],
      "metadata": {
        "colab": {
          "base_uri": "https://localhost:8080/"
        },
        "id": "8zLkonY_WTcL",
        "outputId": "a22a6acf-11bd-42aa-c29d-989a9002c8a1"
      },
      "execution_count": null,
      "outputs": [
        {
          "output_type": "execute_result",
          "data": {
            "text/plain": [
              "array([4, 5, 6, 7, 8])"
            ]
          },
          "metadata": {},
          "execution_count": 28
        }
      ]
    },
    {
      "cell_type": "code",
      "source": [
        "arr2=np.append(arr,[9,10,11])\n",
        "print(arr2)"
      ],
      "metadata": {
        "colab": {
          "base_uri": "https://localhost:8080/"
        },
        "id": "2xbUBk1_WKeB",
        "outputId": "b81ce32e-7c5a-4329-b91c-71dc47c6b61c"
      },
      "execution_count": null,
      "outputs": [
        {
          "output_type": "stream",
          "name": "stdout",
          "text": [
            "[ 4  5  6  7  9 10 11]\n"
          ]
        }
      ]
    },
    {
      "cell_type": "markdown",
      "source": [
        "17) delete multiple elements in an array"
      ],
      "metadata": {
        "id": "lKxGaGKiWtUZ"
      }
    },
    {
      "cell_type": "code",
      "source": [
        "arr2=np.array([4,5,6,7,9,10,11])\n",
        "print(arr2)\n",
        "print('\\n')\n",
        "arr5=np.delete(arr2,[1,4])\n",
        "print(arr5)"
      ],
      "metadata": {
        "colab": {
          "base_uri": "https://localhost:8080/"
        },
        "id": "xasnL2UMWrxi",
        "outputId": "a195ba40-e33c-48a9-bb63-f375530f44fd"
      },
      "execution_count": null,
      "outputs": [
        {
          "output_type": "stream",
          "name": "stdout",
          "text": [
            "[ 4  5  6  7  9 10 11]\n",
            "\n",
            "\n",
            "[ 4  6  7 10 11]\n"
          ]
        }
      ]
    },
    {
      "cell_type": "markdown",
      "source": [
        "18) concatenate elements from 2 arrays"
      ],
      "metadata": {
        "id": "pSoeW2OqXIFZ"
      }
    },
    {
      "cell_type": "code",
      "source": [
        "arr1=np.array([[1,2,3,4],[1,2,3,4]])\n",
        "arr2=np.array([[5,6,7,8],[5,6,7,8]])"
      ],
      "metadata": {
        "id": "asJvAa_oXPWS"
      },
      "execution_count": null,
      "outputs": []
    },
    {
      "cell_type": "code",
      "source": [
        "cat=np.concatenate((arr1,arr2),axis=0)\n",
        "print(cat)"
      ],
      "metadata": {
        "colab": {
          "base_uri": "https://localhost:8080/"
        },
        "id": "ZoEiHWaPXF-a",
        "outputId": "1f9cbbb2-50a9-4378-b09e-34be308ab5f5"
      },
      "execution_count": null,
      "outputs": [
        {
          "output_type": "stream",
          "name": "stdout",
          "text": [
            "[[1 2 3 4]\n",
            " [1 2 3 4]\n",
            " [5 6 7 8]\n",
            " [5 6 7 8]]\n"
          ]
        }
      ]
    },
    {
      "cell_type": "code",
      "source": [
        "cat=np.concatenate((arr1,arr2),axis=1)\n",
        "print(cat)"
      ],
      "metadata": {
        "colab": {
          "base_uri": "https://localhost:8080/"
        },
        "id": "vsPWKQhDXyIJ",
        "outputId": "bb383b68-a422-40ac-a81d-002fe359007f"
      },
      "execution_count": null,
      "outputs": [
        {
          "output_type": "stream",
          "name": "stdout",
          "text": [
            "[[1 2 3 4 5 6 7 8]\n",
            " [1 2 3 4 5 6 7 8]]\n"
          ]
        }
      ]
    }
  ]
}