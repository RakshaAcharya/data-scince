{
  "nbformat": 4,
  "nbformat_minor": 0,
  "metadata": {
    "colab": {
      "provenance": []
    },
    "kernelspec": {
      "name": "python3",
      "display_name": "Python 3"
    },
    "language_info": {
      "name": "python"
    }
  },
  "cells": [
    {
      "cell_type": "code",
      "execution_count": null,
      "metadata": {
        "colab": {
          "base_uri": "https://localhost:8080/"
        },
        "id": "eu7TAY_bDnW3",
        "outputId": "64f10fec-6b0d-41b7-b052-42656e8b0c4d"
      },
      "outputs": [
        {
          "output_type": "stream",
          "name": "stdout",
          "text": [
            "[3 None 0 4 None]\n"
          ]
        }
      ],
      "source": [
        "import numpy as np\n",
        "import pandas as pd\n",
        "array = np.array([3, None, 0, 4, None])\n",
        "print(array)"
      ]
    },
    {
      "cell_type": "code",
      "source": [
        "import numpy as np\n",
        "import pandas as pd\n",
        "array = np.array([3, np.nan, 0, 4, np.nan])    \n",
        "print(array)"
      ],
      "metadata": {
        "colab": {
          "base_uri": "https://localhost:8080/"
        },
        "id": "4xN1P3K3EhLX",
        "outputId": "b96428a0-6847-4c52-8d92-6716e768ba6c"
      },
      "execution_count": null,
      "outputs": [
        {
          "output_type": "stream",
          "name": "stdout",
          "text": [
            "[ 3. nan  0.  4. nan]\n"
          ]
        }
      ]
    },
    {
      "cell_type": "code",
      "source": [
        "#Import the libraries\n",
        "import numpy as np\n",
        "import pandas as pd\n",
        "\n",
        "# Create a CSV dataset\n",
        "data_string = '''ID,Gender,Salary,Country,Company\n",
        "1,Male,15000,India,Google\n",
        "2,Female,45000,China,NaN\n",
        "3,Female,25000,India,Google\n",
        "4,NaN,NaN,Australia,Google\n",
        "5,Male,NaN,India,Google\n",
        "6,Male,54000,NaN,Alibaba\n",
        "7,NaN,74000,China,NaN\n",
        "8,Male,14000,Australia,NaN\n",
        "9,Female,15000,NaN,NaN\n",
        "10,Male,33000,Australia,NaN'''\n",
        "\n",
        "with open('salary.csv', 'w') as out:\n",
        "    out.write(data_string)\n",
        "\n",
        "# Import the dataset\n",
        "df = pd.read_csv('/content/salary.csv')\n",
        "print('Salary Dataset: \\n', df)\n",
        "\n",
        "# Check for missing data\n",
        "print('Missing Data\\n', df.isna())\n",
        "\n",
        "print('Missing Data\\n', df.isnull())\n",
        "\n",
        "# Print only missing data\n",
        "print('Filter based on columns: \\n', df[df.isnull().any(axis=1)]) \n",
        "\n",
        "# Sum up the missing values\n",
        "print('Sum up the missing values: \\n', df.isnull().sum())"
      ],
      "metadata": {
        "colab": {
          "base_uri": "https://localhost:8080/"
        },
        "id": "YesqbtaqEvm-",
        "outputId": "2884146d-c95d-4262-e1f0-15868162d9b7"
      },
      "execution_count": null,
      "outputs": [
        {
          "output_type": "stream",
          "name": "stdout",
          "text": [
            "Salary Dataset: \n",
            "    ID  Gender   Salary    Country  Company\n",
            "0   1    Male  15000.0      India   Google\n",
            "1   2  Female  45000.0      China      NaN\n",
            "2   3  Female  25000.0      India   Google\n",
            "3   4     NaN      NaN  Australia   Google\n",
            "4   5    Male      NaN      India   Google\n",
            "5   6    Male  54000.0        NaN  Alibaba\n",
            "6   7     NaN  74000.0      China      NaN\n",
            "7   8    Male  14000.0  Australia      NaN\n",
            "8   9  Female  15000.0        NaN      NaN\n",
            "9  10    Male  33000.0  Australia      NaN\n",
            "Missing Data\n",
            "       ID  Gender  Salary  Country  Company\n",
            "0  False   False   False    False    False\n",
            "1  False   False   False    False     True\n",
            "2  False   False   False    False    False\n",
            "3  False    True    True    False    False\n",
            "4  False   False    True    False    False\n",
            "5  False   False   False     True    False\n",
            "6  False    True   False    False     True\n",
            "7  False   False   False    False     True\n",
            "8  False   False   False     True     True\n",
            "9  False   False   False    False     True\n",
            "Missing Data\n",
            "       ID  Gender  Salary  Country  Company\n",
            "0  False   False   False    False    False\n",
            "1  False   False   False    False     True\n",
            "2  False   False   False    False    False\n",
            "3  False    True    True    False    False\n",
            "4  False   False    True    False    False\n",
            "5  False   False   False     True    False\n",
            "6  False    True   False    False     True\n",
            "7  False   False   False    False     True\n",
            "8  False   False   False     True     True\n",
            "9  False   False   False    False     True\n",
            "Filter based on columns: \n",
            "    ID  Gender   Salary    Country  Company\n",
            "1   2  Female  45000.0      China      NaN\n",
            "3   4     NaN      NaN  Australia   Google\n",
            "4   5    Male      NaN      India   Google\n",
            "5   6    Male  54000.0        NaN  Alibaba\n",
            "6   7     NaN  74000.0      China      NaN\n",
            "7   8    Male  14000.0  Australia      NaN\n",
            "8   9  Female  15000.0        NaN      NaN\n",
            "9  10    Male  33000.0  Australia      NaN\n",
            "Sum up the missing values: \n",
            " ID         0\n",
            "Gender     2\n",
            "Salary     2\n",
            "Country    2\n",
            "Company    5\n",
            "dtype: int64\n"
          ]
        }
      ]
    },
    {
      "cell_type": "code",
      "source": [
        "df.dropna(inplace=True)\n",
        "print(df)"
      ],
      "metadata": {
        "colab": {
          "base_uri": "https://localhost:8080/"
        },
        "id": "Gi8oM0ztE081",
        "outputId": "39e81545-1987-4ef7-c926-2062858df808"
      },
      "execution_count": null,
      "outputs": [
        {
          "output_type": "stream",
          "name": "stdout",
          "text": [
            "   ID  Gender   Salary Country Company\n",
            "0   1    Male  15000.0   India  Google\n",
            "2   3  Female  25000.0   India  Google\n"
          ]
        }
      ]
    },
    {
      "cell_type": "code",
      "source": [
        "df[\"Salary\"].fillna(20000, inplace=True)\n",
        "print(df)"
      ],
      "metadata": {
        "colab": {
          "base_uri": "https://localhost:8080/"
        },
        "id": "MI9sA39qE6W9",
        "outputId": "c3a0fccd-e475-4e93-d18d-3d9da05be8ee"
      },
      "execution_count": null,
      "outputs": [
        {
          "output_type": "stream",
          "name": "stdout",
          "text": [
            "   ID  Gender   Salary Country Company\n",
            "0   1    Male  15000.0   India  Google\n",
            "2   3  Female  25000.0   India  Google\n"
          ]
        }
      ]
    },
    {
      "cell_type": "code",
      "source": [
        "#Import the libraries\n",
        "import numpy as np\n",
        "import pandas as pd\n",
        "\n",
        "# Create a CSV dataset\n",
        "data_string = '''ID,Gender,Salary,Country,Company\n",
        "1,Male,15000,India,Google\n",
        "2,Female,45000,China,NaN\n",
        "3,Female,25000,India,Google\n",
        "4,NaN,NaN,Australia,Google\n",
        "5,Male,NaN,India,Google\n",
        "6,Male,54000,NaN,Alibaba\n",
        "7,NaN,74000,China,NaN\n",
        "8,Male,14000,Australia,NaN\n",
        "9,Female,15000,NaN,NaN\n",
        "10,Male,33000,Australia,NaN'''\n",
        "\n",
        "with open('salary.csv', 'w') as out:\n",
        "    out.write(data_string)\n",
        "\n",
        "# Import the dataset\n",
        "df = pd.read_csv('/content/salary.csv')\n",
        "\n",
        "print('Missing Data\\n', df.isnull())"
      ],
      "metadata": {
        "colab": {
          "base_uri": "https://localhost:8080/"
        },
        "id": "627ZfCK1FFYl",
        "outputId": "d3e2f99b-791d-4a62-e228-f66c9377f0c0"
      },
      "execution_count": null,
      "outputs": [
        {
          "output_type": "stream",
          "name": "stdout",
          "text": [
            "Missing Data\n",
            "       ID  Gender  Salary  Country  Company\n",
            "0  False   False   False    False    False\n",
            "1  False   False   False    False     True\n",
            "2  False   False   False    False    False\n",
            "3  False    True    True    False    False\n",
            "4  False   False    True    False    False\n",
            "5  False   False   False     True    False\n",
            "6  False    True   False    False     True\n",
            "7  False   False   False    False     True\n",
            "8  False   False   False     True     True\n",
            "9  False   False   False    False     True\n"
          ]
        }
      ]
    },
    {
      "cell_type": "code",
      "source": [
        "gender = pd.isnull(df[\"Gender\"])\n",
        "gender  "
      ],
      "metadata": {
        "colab": {
          "base_uri": "https://localhost:8080/"
        },
        "id": "HyGwZfcQFOue",
        "outputId": "f9dcafaf-4a95-4ae3-a58d-93ded6592455"
      },
      "execution_count": null,
      "outputs": [
        {
          "output_type": "execute_result",
          "data": {
            "text/plain": [
              "0    False\n",
              "1    False\n",
              "2    False\n",
              "3     True\n",
              "4    False\n",
              "5    False\n",
              "6     True\n",
              "7    False\n",
              "8    False\n",
              "9    False\n",
              "Name: Gender, dtype: bool"
            ]
          },
          "metadata": {},
          "execution_count": 9
        }
      ]
    },
    {
      "cell_type": "code",
      "source": [
        "#Import the libraries\n",
        "import numpy as np\n",
        "import pandas as pd\n",
        "\n",
        "# Create a CSV dataset\n",
        "data_string = '''ID,Gender,Salary,Country,Company\n",
        "1,Male,15000,India,Google\n",
        "2,Female,45000,China,NaN\n",
        "3,Female,25000,India,Google\n",
        "4,NaN,NaN,Australia,Google\n",
        "5,Male,NaN,India,Google\n",
        "6,Male,54000,NaN,Alibaba\n",
        "7,NaN,74000,China,NaN\n",
        "8,Male,14000,Australia,NaN\n",
        "9,Female,15000,NaN,NaN\n",
        "10,Male,33000,Australia,NaN'''\n",
        "\n",
        "with open('salary.csv', 'w') as out:\n",
        "    out.write(data_string)\n",
        "\n",
        "# Import the dataset\n",
        "df = pd.read_csv('/content/salary.csv')\n",
        "\n",
        "print('Non Missing Data\\n', df.notnull())"
      ],
      "metadata": {
        "colab": {
          "base_uri": "https://localhost:8080/"
        },
        "id": "lhtj-FJuFPgG",
        "outputId": "39c69443-9eef-4127-ae21-12061dee40b2"
      },
      "execution_count": null,
      "outputs": [
        {
          "output_type": "stream",
          "name": "stdout",
          "text": [
            "Non Missing Data\n",
            "      ID  Gender  Salary  Country  Company\n",
            "0  True    True    True     True     True\n",
            "1  True    True    True     True    False\n",
            "2  True    True    True     True     True\n",
            "3  True   False   False     True     True\n",
            "4  True    True   False     True     True\n",
            "5  True    True    True    False     True\n",
            "6  True   False    True     True    False\n",
            "7  True    True    True     True    False\n",
            "8  True    True    True    False    False\n",
            "9  True    True    True     True    False\n"
          ]
        }
      ]
    },
    {
      "cell_type": "code",
      "source": [
        "#Import the libraries\n",
        "import numpy as np\n",
        "import pandas as pd\n",
        "\n",
        "# Create a CSV dataset\n",
        "data_string = '''ID,Gender,Salary,Country,Company\n",
        "1,Male,15000,India,Google\n",
        "2,Female,45000,China,NaN\n",
        "3,Female,25000,India,Google\n",
        "4,NaN,NaN,Australia,Google\n",
        "5,Male,NaN,India,Google\n",
        "6,Male,54000,NaN,Alibaba\n",
        "7,NaN,74000,China,NaN\n",
        "8,Male,14000,Australia,NaN\n",
        "9,Female,15000,NaN,NaN\n",
        "10,Male,33000,Australia,NaN'''\n",
        "\n",
        "with open('salary.csv', 'w') as out:\n",
        "    out.write(data_string)\n",
        "\n",
        "# Import the dataset\n",
        "df = pd.read_csv('/content/salary.csv')\n",
        "\n",
        "print('Drop Missing Company Data\\n', df.Company.dropna())\n",
        "df.dropna()"
      ],
      "metadata": {
        "colab": {
          "base_uri": "https://localhost:8080/",
          "height": 234
        },
        "id": "-3bWad-rFYzV",
        "outputId": "55bd88d4-b438-48f5-dbc6-3c3fc7c9ad55"
      },
      "execution_count": null,
      "outputs": [
        {
          "output_type": "stream",
          "name": "stdout",
          "text": [
            "Drop Missing Company Data\n",
            " 0     Google\n",
            "2     Google\n",
            "3     Google\n",
            "4     Google\n",
            "5    Alibaba\n",
            "Name: Company, dtype: object\n"
          ]
        },
        {
          "output_type": "execute_result",
          "data": {
            "text/plain": [
              "   ID  Gender   Salary Country Company\n",
              "0   1    Male  15000.0   India  Google\n",
              "2   3  Female  25000.0   India  Google"
            ],
            "text/html": [
              "\n",
              "  <div id=\"df-7999332b-3ffe-4f7f-9245-cea18a149f4d\">\n",
              "    <div class=\"colab-df-container\">\n",
              "      <div>\n",
              "<style scoped>\n",
              "    .dataframe tbody tr th:only-of-type {\n",
              "        vertical-align: middle;\n",
              "    }\n",
              "\n",
              "    .dataframe tbody tr th {\n",
              "        vertical-align: top;\n",
              "    }\n",
              "\n",
              "    .dataframe thead th {\n",
              "        text-align: right;\n",
              "    }\n",
              "</style>\n",
              "<table border=\"1\" class=\"dataframe\">\n",
              "  <thead>\n",
              "    <tr style=\"text-align: right;\">\n",
              "      <th></th>\n",
              "      <th>ID</th>\n",
              "      <th>Gender</th>\n",
              "      <th>Salary</th>\n",
              "      <th>Country</th>\n",
              "      <th>Company</th>\n",
              "    </tr>\n",
              "  </thead>\n",
              "  <tbody>\n",
              "    <tr>\n",
              "      <th>0</th>\n",
              "      <td>1</td>\n",
              "      <td>Male</td>\n",
              "      <td>15000.0</td>\n",
              "      <td>India</td>\n",
              "      <td>Google</td>\n",
              "    </tr>\n",
              "    <tr>\n",
              "      <th>2</th>\n",
              "      <td>3</td>\n",
              "      <td>Female</td>\n",
              "      <td>25000.0</td>\n",
              "      <td>India</td>\n",
              "      <td>Google</td>\n",
              "    </tr>\n",
              "  </tbody>\n",
              "</table>\n",
              "</div>\n",
              "      <button class=\"colab-df-convert\" onclick=\"convertToInteractive('df-7999332b-3ffe-4f7f-9245-cea18a149f4d')\"\n",
              "              title=\"Convert this dataframe to an interactive table.\"\n",
              "              style=\"display:none;\">\n",
              "        \n",
              "  <svg xmlns=\"http://www.w3.org/2000/svg\" height=\"24px\"viewBox=\"0 0 24 24\"\n",
              "       width=\"24px\">\n",
              "    <path d=\"M0 0h24v24H0V0z\" fill=\"none\"/>\n",
              "    <path d=\"M18.56 5.44l.94 2.06.94-2.06 2.06-.94-2.06-.94-.94-2.06-.94 2.06-2.06.94zm-11 1L8.5 8.5l.94-2.06 2.06-.94-2.06-.94L8.5 2.5l-.94 2.06-2.06.94zm10 10l.94 2.06.94-2.06 2.06-.94-2.06-.94-.94-2.06-.94 2.06-2.06.94z\"/><path d=\"M17.41 7.96l-1.37-1.37c-.4-.4-.92-.59-1.43-.59-.52 0-1.04.2-1.43.59L10.3 9.45l-7.72 7.72c-.78.78-.78 2.05 0 2.83L4 21.41c.39.39.9.59 1.41.59.51 0 1.02-.2 1.41-.59l7.78-7.78 2.81-2.81c.8-.78.8-2.07 0-2.86zM5.41 20L4 18.59l7.72-7.72 1.47 1.35L5.41 20z\"/>\n",
              "  </svg>\n",
              "      </button>\n",
              "      \n",
              "  <style>\n",
              "    .colab-df-container {\n",
              "      display:flex;\n",
              "      flex-wrap:wrap;\n",
              "      gap: 12px;\n",
              "    }\n",
              "\n",
              "    .colab-df-convert {\n",
              "      background-color: #E8F0FE;\n",
              "      border: none;\n",
              "      border-radius: 50%;\n",
              "      cursor: pointer;\n",
              "      display: none;\n",
              "      fill: #1967D2;\n",
              "      height: 32px;\n",
              "      padding: 0 0 0 0;\n",
              "      width: 32px;\n",
              "    }\n",
              "\n",
              "    .colab-df-convert:hover {\n",
              "      background-color: #E2EBFA;\n",
              "      box-shadow: 0px 1px 2px rgba(60, 64, 67, 0.3), 0px 1px 3px 1px rgba(60, 64, 67, 0.15);\n",
              "      fill: #174EA6;\n",
              "    }\n",
              "\n",
              "    [theme=dark] .colab-df-convert {\n",
              "      background-color: #3B4455;\n",
              "      fill: #D2E3FC;\n",
              "    }\n",
              "\n",
              "    [theme=dark] .colab-df-convert:hover {\n",
              "      background-color: #434B5C;\n",
              "      box-shadow: 0px 1px 3px 1px rgba(0, 0, 0, 0.15);\n",
              "      filter: drop-shadow(0px 1px 2px rgba(0, 0, 0, 0.3));\n",
              "      fill: #FFFFFF;\n",
              "    }\n",
              "  </style>\n",
              "\n",
              "      <script>\n",
              "        const buttonEl =\n",
              "          document.querySelector('#df-7999332b-3ffe-4f7f-9245-cea18a149f4d button.colab-df-convert');\n",
              "        buttonEl.style.display =\n",
              "          google.colab.kernel.accessAllowed ? 'block' : 'none';\n",
              "\n",
              "        async function convertToInteractive(key) {\n",
              "          const element = document.querySelector('#df-7999332b-3ffe-4f7f-9245-cea18a149f4d');\n",
              "          const dataTable =\n",
              "            await google.colab.kernel.invokeFunction('convertToInteractive',\n",
              "                                                     [key], {});\n",
              "          if (!dataTable) return;\n",
              "\n",
              "          const docLinkHtml = 'Like what you see? Visit the ' +\n",
              "            '<a target=\"_blank\" href=https://colab.research.google.com/notebooks/data_table.ipynb>data table notebook</a>'\n",
              "            + ' to learn more about interactive tables.';\n",
              "          element.innerHTML = '';\n",
              "          dataTable['output_type'] = 'display_data';\n",
              "          await google.colab.output.renderOutput(dataTable, element);\n",
              "          const docLink = document.createElement('div');\n",
              "          docLink.innerHTML = docLinkHtml;\n",
              "          element.appendChild(docLink);\n",
              "        }\n",
              "      </script>\n",
              "    </div>\n",
              "  </div>\n",
              "  "
            ]
          },
          "metadata": {},
          "execution_count": 11
        }
      ]
    },
    {
      "cell_type": "code",
      "source": [
        "df.dropna(axis = 1)\n",
        "print(df)"
      ],
      "metadata": {
        "colab": {
          "base_uri": "https://localhost:8080/"
        },
        "id": "8BwEj_IiFd6W",
        "outputId": "74c03e0f-c1ad-4b12-bd63-d05893925f4e"
      },
      "execution_count": null,
      "outputs": [
        {
          "output_type": "stream",
          "name": "stdout",
          "text": [
            "   ID  Gender   Salary    Country  Company\n",
            "0   1    Male  15000.0      India   Google\n",
            "1   2  Female  45000.0      China      NaN\n",
            "2   3  Female  25000.0      India   Google\n",
            "3   4     NaN      NaN  Australia   Google\n",
            "4   5    Male      NaN      India   Google\n",
            "5   6    Male  54000.0        NaN  Alibaba\n",
            "6   7     NaN  74000.0      China      NaN\n",
            "7   8    Male  14000.0  Australia      NaN\n",
            "8   9  Female  15000.0        NaN      NaN\n",
            "9  10    Male  33000.0  Australia      NaN\n"
          ]
        }
      ]
    },
    {
      "cell_type": "code",
      "source": [
        "new_df = df.dropna(axis = 0, how ='any')\n",
        "print(new_df)"
      ],
      "metadata": {
        "colab": {
          "base_uri": "https://localhost:8080/"
        },
        "id": "aa-i68c4Fiw-",
        "outputId": "5564f5a4-c8d0-4dfa-ff9d-ca475210839a"
      },
      "execution_count": null,
      "outputs": [
        {
          "output_type": "stream",
          "name": "stdout",
          "text": [
            "   ID  Gender   Salary Country Company\n",
            "0   1    Male  15000.0   India  Google\n",
            "2   3  Female  25000.0   India  Google\n"
          ]
        }
      ]
    },
    {
      "cell_type": "code",
      "source": [
        "#Import the libraries\n",
        "import numpy as np\n",
        "import pandas as pd\n",
        "\n",
        "# Create a CSV dataset\n",
        "data_string = '''ID,Gender,Salary,Country,Company\n",
        "1,Male,15000,India,Google\n",
        "2,Female,45000,China,NaN\n",
        "3,Female,25000,India,Google\n",
        "4,NaN,NaN,Australia,Google\n",
        "5,Male,NaN,India,Google\n",
        "6,Male,54000,NaN,Alibaba\n",
        "7,NaN,74000,China,NaN\n",
        "8,Male,14000,Australia,NaN\n",
        "9,Female,15000,NaN,NaN\n",
        "10,Male,33000,Australia,NaN'''\n",
        "\n",
        "with open('salary.csv', 'w') as out:\n",
        "    out.write(data_string)\n",
        "\n",
        "# Import the dataset\n",
        "df = pd.read_csv('/content/salary.csv')\n",
        "\n",
        "print('Fill Missing Data\\n', df.fillna(0))"
      ],
      "metadata": {
        "colab": {
          "base_uri": "https://localhost:8080/"
        },
        "id": "zdARqOsGFzGN",
        "outputId": "62eb5177-1b25-4469-ddff-7d48590eece1"
      },
      "execution_count": null,
      "outputs": [
        {
          "output_type": "stream",
          "name": "stdout",
          "text": [
            "Fill Missing Data\n",
            "    ID  Gender   Salary    Country  Company\n",
            "0   1    Male  15000.0      India   Google\n",
            "1   2  Female  45000.0      China        0\n",
            "2   3  Female  25000.0      India   Google\n",
            "3   4       0      0.0  Australia   Google\n",
            "4   5    Male      0.0      India   Google\n",
            "5   6    Male  54000.0          0  Alibaba\n",
            "6   7       0  74000.0      China        0\n",
            "7   8    Male  14000.0  Australia        0\n",
            "8   9  Female  15000.0          0        0\n",
            "9  10    Male  33000.0  Australia        0\n"
          ]
        }
      ]
    },
    {
      "cell_type": "code",
      "source": [
        "print('Fill Missing Data\\n', df.fillna(method ='pad'))"
      ],
      "metadata": {
        "colab": {
          "base_uri": "https://localhost:8080/"
        },
        "id": "nlXOMi0yF3Bt",
        "outputId": "4486fdb0-19c5-4752-9923-63bee6fe105d"
      },
      "execution_count": null,
      "outputs": [
        {
          "output_type": "stream",
          "name": "stdout",
          "text": [
            "Fill Missing Data\n",
            "    ID  Gender   Salary    Country  Company\n",
            "0   1    Male  15000.0      India   Google\n",
            "1   2  Female  45000.0      China   Google\n",
            "2   3  Female  25000.0      India   Google\n",
            "3   4  Female  25000.0  Australia   Google\n",
            "4   5    Male  25000.0      India   Google\n",
            "5   6    Male  54000.0      India  Alibaba\n",
            "6   7    Male  74000.0      China  Alibaba\n",
            "7   8    Male  14000.0  Australia  Alibaba\n",
            "8   9  Female  15000.0  Australia  Alibaba\n",
            "9  10    Male  33000.0  Australia  Alibaba\n"
          ]
        }
      ]
    },
    {
      "cell_type": "code",
      "source": [
        "print('Fill Missing Data\\n', df.fillna(method ='bfill'))"
      ],
      "metadata": {
        "colab": {
          "base_uri": "https://localhost:8080/"
        },
        "id": "9dVjIV4NF76d",
        "outputId": "04f104bb-7d71-4cb8-a9ee-b13c279d73ef"
      },
      "execution_count": null,
      "outputs": [
        {
          "output_type": "stream",
          "name": "stdout",
          "text": [
            "Fill Missing Data\n",
            "    ID  Gender   Salary    Country  Company\n",
            "0   1    Male  15000.0      India   Google\n",
            "1   2  Female  45000.0      China   Google\n",
            "2   3  Female  25000.0      India   Google\n",
            "3   4    Male  54000.0  Australia   Google\n",
            "4   5    Male  54000.0      India   Google\n",
            "5   6    Male  54000.0      China  Alibaba\n",
            "6   7    Male  74000.0      China      NaN\n",
            "7   8    Male  14000.0  Australia      NaN\n",
            "8   9  Female  15000.0  Australia      NaN\n",
            "9  10    Male  33000.0  Australia      NaN\n"
          ]
        }
      ]
    },
    {
      "cell_type": "code",
      "source": [
        "print('Fill Missing Data\\n', df[\"Gender\"].fillna(\"No Gender\", inplace = True))"
      ],
      "metadata": {
        "colab": {
          "base_uri": "https://localhost:8080/"
        },
        "id": "ycr5TeoYF_19",
        "outputId": "3ff9cef0-781b-4204-9726-c82c30491a15"
      },
      "execution_count": null,
      "outputs": [
        {
          "output_type": "stream",
          "name": "stdout",
          "text": [
            "Fill Missing Data\n",
            " None\n"
          ]
        }
      ]
    },
    {
      "cell_type": "code",
      "source": [
        "print(df.replace(to_replace = 'Google', value = 'Microsoft'))"
      ],
      "metadata": {
        "colab": {
          "base_uri": "https://localhost:8080/"
        },
        "id": "xeLZXMJ4GFtt",
        "outputId": "651715f0-ed5a-480b-c627-a9c33e0fd713"
      },
      "execution_count": null,
      "outputs": [
        {
          "output_type": "stream",
          "name": "stdout",
          "text": [
            "   ID     Gender   Salary    Country    Company\n",
            "0   1       Male  15000.0      India  Microsoft\n",
            "1   2     Female  45000.0      China        NaN\n",
            "2   3     Female  25000.0      India  Microsoft\n",
            "3   4  No Gender      NaN  Australia  Microsoft\n",
            "4   5       Male      NaN      India  Microsoft\n",
            "5   6       Male  54000.0        NaN    Alibaba\n",
            "6   7  No Gender  74000.0      China        NaN\n",
            "7   8       Male  14000.0  Australia        NaN\n",
            "8   9     Female  15000.0        NaN        NaN\n",
            "9  10       Male  33000.0  Australia        NaN\n"
          ]
        }
      ]
    },
    {
      "cell_type": "code",
      "source": [
        "print(df.interpolate(method ='linear', limit_direction ='forward'))"
      ],
      "metadata": {
        "colab": {
          "base_uri": "https://localhost:8080/"
        },
        "id": "Obu6tziTGI1e",
        "outputId": "4fe25b12-dadc-40af-c872-1003a2b8c129"
      },
      "execution_count": null,
      "outputs": [
        {
          "output_type": "stream",
          "name": "stdout",
          "text": [
            "   ID     Gender        Salary    Country  Company\n",
            "0   1       Male  15000.000000      India   Google\n",
            "1   2     Female  45000.000000      China      NaN\n",
            "2   3     Female  25000.000000      India   Google\n",
            "3   4  No Gender  34666.666667  Australia   Google\n",
            "4   5       Male  44333.333333      India   Google\n",
            "5   6       Male  54000.000000        NaN  Alibaba\n",
            "6   7  No Gender  74000.000000      China      NaN\n",
            "7   8       Male  14000.000000  Australia      NaN\n",
            "8   9     Female  15000.000000        NaN      NaN\n",
            "9  10       Male  33000.000000  Australia      NaN\n"
          ]
        }
      ]
    }
  ]
}